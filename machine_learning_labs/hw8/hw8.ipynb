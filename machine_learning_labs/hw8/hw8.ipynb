{
 "cells": [
  {
   "cell_type": "markdown",
   "metadata": {},
   "source": [
    "Dataset description\n",
    "\n",
    "The dataset contains 2 folders:\n",
    "\n",
    "1)\ttrain: folder with data you can use for the training purposes. It contains subfolders:\n",
    "\n",
    "-\tFolders neg and pos. These folders contain text files with positive and negative movie reviews. Positive review means rating >= 7, negative - <= 4. File naming has format {id}.txt\n",
    "\n",
    "-\tFiles pos_rating.csv and neg_rating.csv. Both files contain raw ratings of movies: the first column contain file id, second is a rating value\n",
    "\n",
    "-\tUnsup folder. This folder contains text files with movies review without any rating. You can use it (or donít use) as you wish\n",
    "\n",
    "2)\tTest:  folder contains text files with naming rule {id}.txt\n",
    "\n",
    "Task description\n",
    "\n",
    "The main objective is creating DNN model for binary classification of movie reviews (positive/negative) and run prediction on files in the test folder. Results should be in the CSV format. The first column is file id, second is the result of the model prediction.\n",
    "\n",
    "The secondary objective is creating a model for the movie rating prediction. If you accomplish it ñ please add the third column to the resulting CSV file.\n",
    "\n",
    "Please, provide all the source code you used for the task completion as well as the resulting CSV file.\n",
    "\n",
    "You are free to choose method to solve the problem on your own"
   ]
  },
  {
   "cell_type": "code",
   "execution_count": null,
   "metadata": {
    "collapsed": true
   },
   "outputs": [],
   "source": [
    "import keras"
   ]
  },
  {
   "cell_type": "code",
   "execution_count": null,
   "metadata": {
    "collapsed": true
   },
   "outputs": [],
   "source": [
    "imdb = keras.datasets.imdb"
   ]
  },
  {
   "cell_type": "code",
   "execution_count": null,
   "metadata": {
    "collapsed": true
   },
   "outputs": [],
   "source": [
    "(train_data, train_labels), (test_data, test_labels) = imdb.load_data(num_words=10000)"
   ]
  },
  {
   "cell_type": "code",
   "execution_count": null,
   "metadata": {
    "collapsed": true
   },
   "outputs": [],
   "source": []
  },
  {
   "cell_type": "code",
   "execution_count": null,
   "metadata": {
    "collapsed": true
   },
   "outputs": [],
   "source": []
  },
  {
   "cell_type": "code",
   "execution_count": null,
   "metadata": {
    "collapsed": true
   },
   "outputs": [],
   "source": []
  },
  {
   "cell_type": "code",
   "execution_count": null,
   "metadata": {
    "collapsed": true
   },
   "outputs": [],
   "source": []
  }
 ],
 "metadata": {
  "kernelspec": {
   "display_name": "Python 3",
   "language": "python",
   "name": "python3"
  },
  "language_info": {
   "codemirror_mode": {
    "name": "ipython",
    "version": 3
   },
   "file_extension": ".py",
   "mimetype": "text/x-python",
   "name": "python",
   "nbconvert_exporter": "python",
   "pygments_lexer": "ipython3",
   "version": "3.6.3"
  }
 },
 "nbformat": 4,
 "nbformat_minor": 2
}
