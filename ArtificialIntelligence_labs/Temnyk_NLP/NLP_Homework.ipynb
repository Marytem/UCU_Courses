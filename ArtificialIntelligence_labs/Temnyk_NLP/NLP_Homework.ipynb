{
 "cells": [
  {
   "cell_type": "markdown",
   "metadata": {},
   "source": [
    "# Project Description\n",
    "\n",
    "You will implement a model which inputs a sentence (such as \"Ходімо грати у бейсбол!\") and finds the most appropriate emoji to be used with this sentence (⚾️). In many emoji interfaces, you need to remember that ❤️ is the \"heart\" symbol rather than the \"love\" symbol. But using word vectors, you'll see that even if your training set explicitly relates only a few words to a particular emoji, your algorithm will be able to generalize and associate words in the test set to the same emoji even if those words don't even appear in the training set. This allows you to build an accurate classifier mapping from sentences to emojis, even using a small training set.\n",
    "\n",
    "In this exercise, you'll start with a baseline model (Emojifier-V1) using word embeddings, then build a more sophisticated model (Emojifier-V2) that further incorporates an LSTM."
   ]
  },
  {
   "cell_type": "code",
   "execution_count": 1,
   "metadata": {},
   "outputs": [],
   "source": [
    "import numpy as np\n",
    "from emo_utils import *\n",
    "import itertools\n",
    "import emoji\n",
    "from sklearn.metrics import confusion_matrix\n",
    "import matplotlib.pyplot as plt\n",
    "import pandas as pd\n",
    "import sklearn \n",
    "from string import punctuation\n",
    "\n",
    "\n",
    "%matplotlib inline"
   ]
  },
  {
   "cell_type": "markdown",
   "metadata": {},
   "source": [
    "# Prepare the dataset (emoji_set.csv)\n",
    "1. Install emoji package: **pip install emoji**\n",
    "2. Get familiar with its description: https://pypi.org/project/emoji/\n",
    "3. Select 5 emoticons from the list: https://www.webpagefx.com/tools/emoji-cheat-sheet/\n",
    "4. Make file **data/emoji_set.csv**\n",
    "5. Give index for each emoticon:<br>\n",
    "emoji, code, label<br>\n",
    "❤️, :heart:, 0<br>\n",
    "😄, :smile:, 1<br>\n",
    "...<br>\n",
    "6. For each emoticon prepare 30 sentences **in Ukrainian**\n",
    "7. Your dataset should look like:<br>\n",
    "X (sentences), Y(labels)<br>\n",
    "Я тебе кохаю, 0<br>\n",
    "Він пишається твоїми досягненнями, 1<br>\n",
    "...\n",
    "8. Read-in your dataset, shuffle and divide into **train** and **test**"
   ]
  },
  {
   "cell_type": "code",
   "execution_count": 2,
   "metadata": {
    "scrolled": false
   },
   "outputs": [
    {
     "data": {
      "text/plain": [
       "14"
      ]
     },
     "execution_count": 2,
     "metadata": {},
     "output_type": "execute_result"
    }
   ],
   "source": [
    "from sklearn.model_selection import train_test_split\n",
    "\n",
    "data = pd.read_csv('data/emoji_set.csv')\n",
    "# delete extra emoji data\n",
    "data = data.set_index('emo')\n",
    "data = data.drop([2,3,6,8], axis=0)\n",
    "data.reset_index(level=0, inplace=True)\n",
    "# replace lables with proper ones\n",
    "data = data.replace({7:3, 5:2})\n",
    "\n",
    "# shuffle\n",
    "# divide into train and test\n",
    "train_set, test_set = train_test_split(data, test_size=0.2)\n",
    "train_set.reset_index(level=0, inplace=True)\n",
    "test_set.reset_index(level=0, inplace=True)\n",
    "\n",
    "X_train, Y_train = train_set['sentence'], train_set['emo']\n",
    "X_test, Y_test = test_set['sentence'], test_set['emo']\n",
    "\n",
    "# get max len\n",
    "maxLen = len(max(X_train, key=len).split())\n",
    "\n",
    "# X_train.head(10)\n",
    "maxLen"
   ]
  },
  {
   "cell_type": "markdown",
   "metadata": {},
   "source": [
    "Check out sentences from X_train and corresponding labels from Y_train. Change index to see different examples."
   ]
  },
  {
   "cell_type": "code",
   "execution_count": 3,
   "metadata": {},
   "outputs": [
    {
     "name": "stdout",
     "output_type": "stream",
     "text": [
      "з Брі ідеально поєднується червоне напівсолодке 🍷\n"
     ]
    }
   ],
   "source": [
    "index = 67\n",
    "print(X_train[index], label_to_emoji(Y_train[index]))"
   ]
  },
  {
   "cell_type": "markdown",
   "metadata": {},
   "source": [
    "# Baseline model: Emojifier-V1\n",
    "The input of the model is a string corresponding to a sentence (e.g. \"Я тебе кохаю\"). In the code, the output will be a probability vector of shape (1,5), that you then pass in an argmax layer to extract the index of the most likely emoji output.<br><br>\n",
    "To get our labels into a format suitable for training a softmax classifier, lets convert $Y$ from its current shape $(m, 1)$ into a \"one-hot representation\" $(m, 5)$, where each row is a one-hot vector giving the label of one example, You can do so using this next code snipper. Here, Y_oh stands for \"Y-one-hot\" in the variable names Y_oh_train and Y_oh_test:"
   ]
  },
  {
   "cell_type": "code",
   "execution_count": 4,
   "metadata": {},
   "outputs": [],
   "source": [
    "Y_oh_train = convert_to_one_hot(Y_train, C = 5)\n",
    "Y_oh_test = convert_to_one_hot(Y_test, C = 5)"
   ]
  },
  {
   "cell_type": "markdown",
   "metadata": {},
   "source": [
    "Let's see what convert_to_one_hot() did. Feel free to change index to print out different values."
   ]
  },
  {
   "cell_type": "code",
   "execution_count": 5,
   "metadata": {},
   "outputs": [
    {
     "name": "stdout",
     "output_type": "stream",
     "text": [
      "4 is converted into one hot [0. 0. 0. 0. 1.]\n"
     ]
    }
   ],
   "source": [
    "index = 56\n",
    "print(Y_train[index], \"is converted into one hot\", Y_oh_train[index])"
   ]
  },
  {
   "cell_type": "markdown",
   "metadata": {},
   "source": [
    "All the data is now ready to be fed into the Emojify-V1 model. Let's implement the model!"
   ]
  },
  {
   "cell_type": "markdown",
   "metadata": {},
   "source": [
    "## Load pretrained embeddings\n",
    "Load the embeddings into existing **data** folder.<br>\n",
    "Where: http://lang.org.ua/uk/models/<br>\n",
    "Alternative: https://fasttext.cc/docs/en/crawl-vectors.html"
   ]
  },
  {
   "cell_type": "markdown",
   "metadata": {},
   "source": [
    "## Implement Emojifier-V1\n",
    "1. Read-in loaded embeddings\n",
    "2. Convert an input sentence into the word vector representation\n",
    "3. Average"
   ]
  },
  {
   "cell_type": "code",
   "execution_count": 6,
   "metadata": {},
   "outputs": [],
   "source": [
    "# correct glove embeddings file name\n",
    "# for other types of embeddings, write similar function (see emo_utils.py)\n",
    "\n",
    "# FOR TEACHER: could not load embeddings to cms, so it should be added manually\n",
    "# http://lang.org.ua/uk/models/ - embeddings were taken from here, filename: ubercorpus.lowercased.tokenized.glove.300d\n",
    "word_to_index, index_to_word, word_to_vec_map = read_glove_vecs('data/embeddings/ubercorpus.lowercased.tokenized.glove.300d')"
   ]
  },
  {
   "cell_type": "markdown",
   "metadata": {},
   "source": [
    "You've loaded:\n",
    "\n",
    "- _word_to_index_: dictionary mapping from words to their indices in the vocabulary (400,001 words, with the valid indices ranging from 0 to 400,000)\n",
    "- _index_to_word_: dictionary mapping from indices to their corresponding words in the vocabulary\n",
    "- _word_to_vec_map_: dictionary mapping words to their GloVe vector representation.\n",
    "<br><br>\n",
    "Check how it works"
   ]
  },
  {
   "cell_type": "code",
   "execution_count": 7,
   "metadata": {
    "ExecuteTime": {
     "end_time": "2018-10-29T10:46:18.608898Z",
     "start_time": "2018-10-29T10:46:18.135375Z"
    }
   },
   "outputs": [
    {
     "name": "stdout",
     "output_type": "stream",
     "text": [
      "the index of сорочка in the vocabulary is 449701\n",
      "the 289846th word in the vocabulary is манежну\n"
     ]
    }
   ],
   "source": [
    "word = \"сорочка\"\n",
    "index = 289846\n",
    "print(\"the index of\", word, \"in the vocabulary is\", word_to_index[word])\n",
    "print(\"the\", str(index) + \"th word in the vocabulary is\", index_to_word[index])"
   ]
  },
  {
   "cell_type": "code",
   "execution_count": 8,
   "metadata": {},
   "outputs": [
    {
     "data": {
      "text/plain": [
       "array([-0.202566, -0.152461,  0.273252,  0.43998 ,  0.340374, -0.027129,\n",
       "       -0.511444,  0.052295,  0.312061,  0.484661, -0.100827,  0.752109,\n",
       "        0.277506, -0.099236, -0.06783 ,  0.211145,  0.088827,  0.293651,\n",
       "       -0.047532,  0.195477,  0.263267,  0.247959,  0.991235, -0.0131  ,\n",
       "        0.403789,  0.062206, -0.628421,  0.366798, -0.212452,  0.02419 ,\n",
       "        0.398341,  0.41902 ,  0.116066, -0.223738,  0.436459,  0.132193,\n",
       "        0.047671, -0.039363, -0.1924  ,  0.019029,  0.415354,  0.440581,\n",
       "       -0.415394,  0.331891,  0.324355, -0.334673,  0.258301,  0.388409,\n",
       "       -0.326078, -0.105734,  0.251011, -0.450468, -0.054073,  0.046614,\n",
       "        0.148379,  0.322822, -0.270945, -0.021871,  0.005213, -0.491005,\n",
       "        0.832585, -0.561881,  0.372609, -0.01073 ,  0.028112, -0.402091,\n",
       "       -0.234341, -0.341824, -0.518201, -0.132458, -0.30245 , -0.239102,\n",
       "        0.103483, -0.0223  , -0.012894,  0.147111,  0.544218,  0.335769,\n",
       "        0.250099, -0.078551,  0.133362,  0.286324,  0.527634,  0.344937,\n",
       "       -0.491131,  0.331822, -0.116734,  0.262314, -0.377248,  0.333158,\n",
       "       -0.155721,  0.419912,  0.562447, -0.321095,  0.213551, -0.051662,\n",
       "       -0.080401,  0.452809, -0.25834 , -0.453032, -0.426697,  0.091481,\n",
       "       -0.077993, -0.407273, -0.458853,  0.715623, -0.356004,  0.212702,\n",
       "        0.48088 , -0.180912,  0.199765,  0.023788, -0.801116,  0.02029 ,\n",
       "        0.017145,  0.272316, -0.539271, -0.104878, -0.043693, -0.649112,\n",
       "        0.42899 ,  0.018663, -0.28539 , -0.445472,  0.01427 , -0.702342,\n",
       "        0.217842,  0.420415,  0.332348, -0.719709,  0.33066 ,  0.194265,\n",
       "        0.120336, -0.231386,  0.581484,  0.044399, -0.398125,  0.403126,\n",
       "       -0.01517 ,  0.414207,  0.56408 , -0.199342,  0.634669, -0.095493,\n",
       "       -0.387497,  0.029586,  0.162367,  0.516657,  0.34806 ,  0.05226 ,\n",
       "       -0.283467,  0.020696,  0.971971,  0.33263 , -0.687852, -0.103577,\n",
       "       -0.461173, -0.283252,  0.108733, -0.144825, -0.384144, -0.27461 ,\n",
       "        0.457632,  0.235918, -0.495778, -0.273611,  0.543   ,  0.2102  ,\n",
       "       -0.051527, -0.238413, -0.111045,  0.276861,  0.717847,  0.082287,\n",
       "        0.235716, -0.392055, -0.261477, -0.775572, -0.124797, -0.118457,\n",
       "        0.13561 , -0.008905,  0.099253, -0.533603, -0.153018, -0.109192,\n",
       "        0.632763, -0.130691,  0.52161 ,  0.838137, -0.248715, -0.017029,\n",
       "        0.139289, -0.737228, -0.057217,  0.266597,  0.279026, -0.097928,\n",
       "        0.187785,  0.484744, -0.10573 , -0.006361,  0.295795,  0.364656,\n",
       "       -0.11095 , -0.061081, -0.043517, -0.264291,  0.305746, -0.416941,\n",
       "       -0.145629, -0.211049, -0.041903,  0.587233, -0.102736,  0.506547,\n",
       "       -0.398926, -0.056909,  0.055086,  0.133569,  0.04573 ,  0.102772,\n",
       "        0.945455,  0.048703,  0.496229,  0.208402, -0.0674  ,  0.037757,\n",
       "        0.318732, -0.63994 , -0.275787,  0.150539,  0.404527, -0.832527,\n",
       "        0.979931, -0.063561,  0.045567,  0.080794,  0.107225,  0.778139,\n",
       "        0.106938,  0.298457,  0.32687 ,  0.438365,  0.202653,  0.424481,\n",
       "        0.122762,  0.256048,  0.198222, -0.026369, -0.101724,  0.372872,\n",
       "        0.437465,  0.359326, -0.153575, -0.105836,  0.355423,  0.47974 ,\n",
       "       -0.318821,  0.039544, -0.158285, -0.003327, -0.371773,  0.01374 ,\n",
       "        0.034417, -0.473876,  0.493037, -0.339177,  0.17742 , -0.082569,\n",
       "       -0.26266 ,  0.166215, -0.19579 ,  0.081092,  0.26158 ,  0.728633,\n",
       "        0.901237, -0.522552,  0.701148, -0.344429,  0.232955,  0.13402 ,\n",
       "       -0.580575, -0.079217,  0.177045, -0.565201,  0.242887,  0.249073,\n",
       "        0.208872, -0.300366,  0.475514, -0.300307, -0.288863, -0.177776,\n",
       "        0.373082, -0.380967, -0.083131,  0.052545,  0.356949,  0.131964])"
      ]
     },
     "execution_count": 8,
     "metadata": {},
     "output_type": "execute_result"
    }
   ],
   "source": [
    "word_to_vec_map[word]"
   ]
  },
  {
   "cell_type": "markdown",
   "metadata": {},
   "source": [
    "Implement sentence_to_avg(). You will need to carry out two steps:\n",
    "\n",
    "1. Convert every sentence to lower-case, then split the sentence into a list of words. X.lower() and X.split() might be useful.\n",
    "2. For each word in the sentence, access its GloVe representation. Then, average all these values."
   ]
  },
  {
   "cell_type": "code",
   "execution_count": 9,
   "metadata": {},
   "outputs": [],
   "source": [
    "def sentence_to_avg(sentence, word_to_vec_map):\n",
    "    \"\"\"\n",
    "    Converts a sentence (string) into a list of words (strings). Extracts the GloVe representation of each word\n",
    "    and averages its value into a single vector encoding the meaning of the sentence.\n",
    "    \n",
    "    Arguments:\n",
    "    sentence -- string, one training example from X\n",
    "    word_to_vec_map -- dictionary mapping every word in a vocabulary into its 50-dimensional vector representation\n",
    "    \n",
    "    Returns:\n",
    "    avg -- average vector encoding information about the sentence, numpy-array of shape (50,)\n",
    "    \"\"\"\n",
    "    \n",
    "    # Split sentence into list of lower case words (≈ 1 line)\n",
    "    \n",
    "    words = sentence.split()\n",
    "\n",
    "    # Initialize the average word vector, should have the same shape as your word vectors.  \n",
    "    # Average the word vectors. You can loop over the words in the list \"words\".\n",
    "    avg = np.average(np.array([word_to_vec_map[w.lower().strip(punctuation)] for w in words if w.lower().strip(punctuation) in word_to_vec_map.keys()]), axis=0)\n",
    "    \n",
    "    return avg"
   ]
  },
  {
   "cell_type": "code",
   "execution_count": 10,
   "metadata": {},
   "outputs": [
    {
     "data": {
      "text/plain": [
       "538432"
      ]
     },
     "execution_count": 10,
     "metadata": {},
     "output_type": "execute_result"
    }
   ],
   "source": [
    "len(word_to_vec_map.keys())"
   ]
  },
  {
   "cell_type": "code",
   "execution_count": 11,
   "metadata": {},
   "outputs": [
    {
     "name": "stdout",
     "output_type": "stream",
     "text": [
      "avg =  [ 8.2720750e-02 -4.0378875e-01  1.1845625e-01  3.7466175e-01\n",
      "  4.1694750e-01  9.2225750e-02 -1.4972425e-01 -7.8347750e-02\n",
      " -1.7910175e-01  2.8469000e-02  1.1168850e-01 -7.2144750e-02\n",
      "  4.1083450e-01  5.7449750e-02  1.1564850e-01  2.7584025e-01\n",
      "  2.0631175e-01  1.7669825e-01  2.1849475e-01 -3.6545100e-01\n",
      " -8.6625750e-02 -1.8236000e-01  8.9491000e-02 -1.0846625e-01\n",
      " -3.9958000e-02 -5.2662500e-02 -1.3894950e-01 -5.5855800e-01\n",
      "  2.6169150e-01 -5.0539250e-02  1.1708900e-01  3.1745575e-01\n",
      "  6.2013000e-02 -5.6345000e-01  5.8713900e-01 -1.0732525e-01\n",
      " -1.9575750e-02 -2.4756900e-01 -3.9907125e-01 -2.1557250e-02\n",
      "  2.2161825e-01  9.4812000e-02  2.7228050e-01  3.9333475e-01\n",
      "  2.3758425e-01  4.8851100e-01  2.7107550e-01 -3.3270850e-01\n",
      " -9.2400250e-02  8.0005500e-02  2.1286525e-01 -1.8693450e-01\n",
      " -4.5224050e-01  1.0046575e-01 -3.4040750e-02 -1.2737875e-01\n",
      " -1.2887025e-01  1.6719350e-01 -3.4892750e-02  3.0689525e-01\n",
      " -3.5443375e-01 -1.0574275e-01  2.3164800e-01  3.7576000e-02\n",
      " -1.9160975e-01  2.0432175e-01  2.5720725e-01 -1.1910500e-02\n",
      " -4.1426075e-01 -1.6878925e-01  8.8315500e-02  1.8783500e-01\n",
      " -9.6765000e-02  3.2233450e-01 -2.6926000e-02  4.2008500e-01\n",
      " -1.5563375e-01  1.1346650e-01 -3.1388600e-01 -4.6812250e-02\n",
      " -6.2828750e-01 -2.1113550e-01 -3.8983450e-01  4.3631725e-01\n",
      "  8.8766750e-02 -1.4784750e-01 -4.8018525e-01  1.6190800e-01\n",
      "  1.5231225e-01 -3.4745225e-01  1.1406825e-01  1.1517750e-02\n",
      "  1.0802125e-01  2.1528900e-01  1.4239525e-01  2.4506650e-01\n",
      " -1.5471900e-01  7.7775900e-01  8.1035000e-03  1.1544000e-02\n",
      " -1.7110300e-01 -6.6763750e-02  1.1267425e-01 -4.3112000e-02\n",
      " -2.4319300e-01  1.7417975e-01  1.8932300e-01  2.0377700e-01\n",
      "  1.1163600e-01 -1.8081250e-02  2.3000675e-01 -1.5405850e-01\n",
      "  2.6758000e-02  1.4111700e-01  5.9079175e-01 -9.5710000e-03\n",
      " -2.6149650e-01  3.0949225e-01 -1.1981775e-01 -2.6824875e-01\n",
      "  3.1215000e-01  2.4416750e-02  3.0412500e-02 -2.2251200e-01\n",
      "  2.2032300e-01 -3.1939275e-01 -2.2601600e-01 -3.2177425e-01\n",
      "  4.6760225e-01 -4.9223575e-01  1.8520500e-02  9.9452500e-03\n",
      " -2.1703925e-01 -3.2656575e-01  2.8036525e-01 -1.8028775e-01\n",
      " -1.8319250e-01 -3.2904400e-01 -3.7560850e-01 -1.0968225e-01\n",
      "  2.6372175e-01 -1.5798400e-01 -2.1040000e-01 -2.8053500e-01\n",
      " -1.7951125e-01  1.4254750e-02  3.6484425e-01  9.4685000e-03\n",
      " -1.4282525e-01 -3.4147100e-01 -2.6560875e-01  2.2146500e-01\n",
      "  4.3017750e-01  4.0184400e-01 -1.0085250e-02  2.0527050e-01\n",
      " -1.8617550e-01 -2.8356925e-01  3.2300000e-02  7.7161000e-02\n",
      " -2.2938500e-02 -5.0594225e-01  2.3776975e-01  2.1670400e-01\n",
      " -3.8392075e-01  3.8762675e-01 -9.4637750e-02 -6.9003000e-02\n",
      "  5.1931575e-01  6.7250000e-04 -8.8934500e-02  2.3794575e-01\n",
      "  5.9679025e-01  8.4618000e-02  2.4308250e-01 -5.6313500e-02\n",
      "  4.6362750e-02  9.9381000e-02  1.0344225e-01  7.0510000e-03\n",
      "  2.9853325e-01  1.2849950e-01 -2.4107500e-03  4.2610000e-03\n",
      "  1.6546150e-01  2.7397650e-01  2.2206800e-01  4.4573000e-02\n",
      " -4.2127500e-03  6.9927800e-01  2.8722250e-02 -4.3029225e-01\n",
      "  2.0629525e-01 -7.5268500e-02  3.2072675e-01  6.2034075e-01\n",
      " -2.3365925e-01  9.5793500e-02 -7.0607500e-03  4.5486950e-01\n",
      "  5.5879500e-02 -1.5554825e-01  2.6483175e-01  1.8488175e-01\n",
      " -2.2128375e-01 -1.7583500e-01  2.7705825e-01  2.4598700e-01\n",
      "  1.1853125e-01 -1.4120275e-01  3.4816075e-01  2.0433450e-01\n",
      "  6.6177500e-02  5.0388800e-01 -1.8032200e-01  2.6484200e-01\n",
      " -2.2686150e-01  2.9434250e-02 -1.5332050e-01 -3.1745575e-01\n",
      " -3.0449225e-01 -1.8151950e-01  6.5522750e-02 -4.4138850e-01\n",
      " -1.5865625e-01 -1.8120700e-01 -6.5517750e-02 -2.7160975e-01\n",
      " -1.8853400e-01 -3.1096450e-01  4.5626450e-01  8.1528750e-02\n",
      "  2.3874750e-02 -6.3204150e-01  2.0464875e-01 -1.9313275e-01\n",
      "  9.6124750e-02  6.2390000e-02 -3.2062775e-01  2.2024725e-01\n",
      "  1.3155275e-01  2.3168250e-02  3.1761550e-01 -1.9323375e-01\n",
      "  2.3595000e-02  8.3970250e-02 -3.0982525e-01  2.9186225e-01\n",
      " -1.7775225e-01 -9.4988250e-02 -6.6989750e-02 -1.3237250e-02\n",
      " -3.9001500e-02  1.8757100e-01 -9.0040000e-02 -3.2892100e-01\n",
      "  3.3462500e-01 -1.2098675e-01 -1.2671475e-01 -4.3592275e-01\n",
      " -3.0786950e-01 -1.8047650e-01 -8.4165000e-03  4.3657250e-02\n",
      " -3.1902725e-01 -6.9126250e-02 -1.3553050e-01  1.9186275e-01\n",
      "  3.9700950e-01  1.3790350e-01 -1.7034250e-02  2.4856700e-01\n",
      " -2.0049700e-01  3.3320675e-01  1.0439150e-01 -8.2801250e-02\n",
      "  4.6287125e-01  5.8761250e-02 -4.1894500e-02 -1.5724500e-02\n",
      " -1.3407275e-01 -1.9109750e-01  1.4838950e-01 -3.1870050e-01\n",
      "  5.0387975e-01  1.6777450e-01  1.6834275e-01 -6.9462000e-02\n",
      "  3.9362000e-02 -5.1235750e-02  4.6254500e-02 -7.8662500e-03\n",
      " -1.5239225e-01 -1.8229500e-02  6.9289500e-02 -2.5246975e-01\n",
      " -6.7787000e-02  1.5856150e-01  6.9762500e-03 -2.8767500e-03]\n"
     ]
    }
   ],
   "source": [
    "avg = sentence_to_avg(\"Моя улюблена страва - борщ\", word_to_vec_map)\n",
    "print(\"avg = \", avg)\n",
    "# you should see list of emdeddings, len = 300 "
   ]
  },
  {
   "cell_type": "markdown",
   "metadata": {},
   "source": [
    "**Model**\n",
    "<br><br>\n",
    "You now have all the pieces to finish implementing the model() function. After using sentence_to_avg() you need to pass the average through forward propagation, compute the cost, and then backpropagate to update the softmax's parameters.\n",
    "\n"
   ]
  },
  {
   "cell_type": "markdown",
   "metadata": {},
   "source": [
    "Implement the model() function described in Figure (2). Assuming here that $Yoh$ (\"Y one hot\") is the one-hot encoding of the output labels, the equations you need to implement in the forward pass and to compute the cross-entropy cost are: $$ z^{(i)} = W . avg^{(i)} + b$$$$ a^{(i)} = softmax(z^{(i)})$$$$ \\mathcal{L}^{(i)} = - \\sum_{k = 0}^{n_y - 1} Yoh^{(i)}_k * log(a^{(i)}_k)$$\n",
    "<br><br>\n",
    "It is possible to come up with a more efficient vectorized implementation. But since we are using a for-loop to convert the sentences one at a time into the avg^{(i)} representation anyway, let's not bother this time.\n",
    "<br><br>\n",
    "softmax() function is implemented in emo_utils.py"
   ]
  },
  {
   "cell_type": "code",
   "execution_count": 12,
   "metadata": {},
   "outputs": [],
   "source": [
    "def predict(X, Y, W, b, word_to_vec_map):\n",
    "    pred = []\n",
    "    for i in range(Y.shape[0]):\n",
    "        avg = sentence_to_avg(X[i], word_to_vec_map)\n",
    "        z = np.dot(W, avg) + b\n",
    "        pred.append(np.argmax(softmax(z)))\n",
    "    return np.array(pred)   "
   ]
  },
  {
   "cell_type": "code",
   "execution_count": 13,
   "metadata": {},
   "outputs": [],
   "source": [
    "def model(X, Y, word_to_vec_map, learning_rate = 0.01, num_iterations = 400):\n",
    "    \"\"\"\n",
    "    Model to train word vector representations in numpy.\n",
    "    \n",
    "    Arguments:\n",
    "    X -- input data, numpy array of sentences as strings, of shape (m, 1)\n",
    "    Y -- labels, numpy array of integers between 0 and 7, numpy-array of shape (m, 1)\n",
    "    word_to_vec_map -- dictionary mapping every word in a vocabulary into its 50-dimensional vector representation\n",
    "    learning_rate -- learning_rate for the stochastic gradient descent algorithm\n",
    "    num_iterations -- number of iterations\n",
    "    \n",
    "    Returns:\n",
    "    pred -- vector of predictions, numpy-array of shape (m, 1)\n",
    "    W -- weight matrix of the softmax layer, of shape (n_y, n_h)\n",
    "    b -- bias of the softmax layer, of shape (n_y,)\n",
    "    \"\"\"\n",
    "    \n",
    "    np.random.seed(1)\n",
    "\n",
    "    # Define number of training examples\n",
    "    m = Y.shape[0]                          # number of training examples\n",
    "    n_y = 5                                 # number of classes  \n",
    "    n_h = 300                                # dimensions of the GloVe vectors \n",
    "    \n",
    "    # Initialize parameters using Xavier initialization\n",
    "    W = np.random.randn(n_y, n_h) / np.sqrt(n_h)\n",
    "    b = np.zeros((n_y,))\n",
    "    \n",
    "    # Convert Y to Y_onehot with n_y classes\n",
    "    Y_oh = convert_to_one_hot(Y, C = n_y) \n",
    "    \n",
    "    # Optimization loop\n",
    "    for t in range(num_iterations):                       # Loop over the number of iterations\n",
    "        for i in range(m):                                # Loop over the training examples\n",
    "            \n",
    "            ### START CODE HERE ### (≈ 4 lines of code)\n",
    "            # Average the word vectors of the words from the i'th training example\n",
    "            avg = sentence_to_avg(X[i], word_to_vec_map)\n",
    "\n",
    "            # Forward propagate the avg through the softmax layer\n",
    "            z = np.dot(W, avg) + b\n",
    "            a = softmax(z)\n",
    "\n",
    "            # Compute cost using the i'th training label's one hot representation and \"A\" (the output of the softmax)\n",
    "            cost = -np.sum(Y_oh[i] * np.log(a))\n",
    "            ### END CODE HERE ###\n",
    "            \n",
    "            # Compute gradients \n",
    "            dz = a - Y_oh[i]\n",
    "            dW = np.dot(dz.reshape(n_y,1), avg.reshape(1, n_h))\n",
    "            db = dz\n",
    "\n",
    "            # Update parameters with Stochastic Gradient Descent\n",
    "            W = W - learning_rate * dW\n",
    "            b = b - learning_rate * db\n",
    "        \n",
    "        if t % 100 == 0:\n",
    "            print(\"Epoch: \" + str(t) + \" --- cost = \" + str(cost))\n",
    "            pred = predict(X, Y, W, b, word_to_vec_map)\n",
    "\n",
    "    return pred, W, b"
   ]
  },
  {
   "cell_type": "markdown",
   "metadata": {},
   "source": [
    "Train your model and learn the softmax parameters (W,b)."
   ]
  },
  {
   "cell_type": "code",
   "execution_count": 14,
   "metadata": {},
   "outputs": [
    {
     "name": "stdout",
     "output_type": "stream",
     "text": [
      "Epoch: 0 --- cost = 1.935691655216577\n",
      "Epoch: 100 --- cost = 0.2664482567692332\n",
      "Epoch: 200 --- cost = 0.1203452532383932\n",
      "Epoch: 300 --- cost = 0.07624980345420106\n",
      "[3 2 2 4 2 3 0 1 2 4 1 1 0 2 4 2 2 0 2 1 0 0 1 0 0 4 4 0 3 0 4 3 3 3 2 4 2\n",
      " 0 1 1 0 4 0 1 3 1 2 4 4 2 3 0 4 3 0 2 4 1 2 4 2 1 2 4 2 0 2 2 1 4 2 1 0 0\n",
      " 1 2 4 2 2 0 2 0 0 1 1 0 3 2 4 1 2 1 4 0 4 4 0 3 1 2 4 4 3 3 2 1 1 3 1 1 4\n",
      " 1 0 2 0]\n"
     ]
    }
   ],
   "source": [
    "pred, W, b = model(X_train, Y_train, word_to_vec_map)\n",
    "print(pred)"
   ]
  },
  {
   "cell_type": "code",
   "execution_count": 15,
   "metadata": {},
   "outputs": [
    {
     "data": {
      "text/plain": [
       "1.0"
      ]
     },
     "execution_count": 15,
     "metadata": {},
     "output_type": "execute_result"
    }
   ],
   "source": [
    "from sklearn.metrics import accuracy_score\n",
    "accuracy_score(Y_train, pred)"
   ]
  },
  {
   "cell_type": "markdown",
   "metadata": {},
   "source": [
    "Expected accuracy - 97% or more, expected cost - 0.03 or less"
   ]
  },
  {
   "cell_type": "markdown",
   "metadata": {},
   "source": [
    "## Test set performance"
   ]
  },
  {
   "cell_type": "code",
   "execution_count": 16,
   "metadata": {},
   "outputs": [
    {
     "name": "stdout",
     "output_type": "stream",
     "text": [
      "Training set:  1.0\n",
      "Test set:  0.5172413793103449\n"
     ]
    }
   ],
   "source": [
    "pred_train = predict(X_train, Y_train, W, b, word_to_vec_map)  # ~97% or more\n",
    "print(\"Training set: \", accuracy_score(Y_train, pred_train))\n",
    "pred_test = predict(X_test, Y_test, W, b, word_to_vec_map)  # ~85% or more\n",
    "print('Test set: ', accuracy_score(Y_test, pred_test))"
   ]
  },
  {
   "cell_type": "markdown",
   "metadata": {},
   "source": [
    "In the training set, the algorithm saw the sentence \"Я тебе кохаю\" with the label ❤️. You can check however that the word \"обожнюю\" does not appear in the training set. Nonetheless, lets see what happens if you write \"Я обожнюю тебе\"\n",
    "<br>\n",
    "If your dataset doesn't contain such a sentence, create example for your case on your own."
   ]
  },
  {
   "cell_type": "code",
   "execution_count": 17,
   "metadata": {},
   "outputs": [
    {
     "data": {
      "text/html": [
       "<div>\n",
       "<style scoped>\n",
       "    .dataframe tbody tr th:only-of-type {\n",
       "        vertical-align: middle;\n",
       "    }\n",
       "\n",
       "    .dataframe tbody tr th {\n",
       "        vertical-align: top;\n",
       "    }\n",
       "\n",
       "    .dataframe thead th {\n",
       "        text-align: right;\n",
       "    }\n",
       "</style>\n",
       "<table border=\"1\" class=\"dataframe\">\n",
       "  <thead>\n",
       "    <tr style=\"text-align: right;\">\n",
       "      <th></th>\n",
       "      <th>my_centences</th>\n",
       "      <th>predicted_labels</th>\n",
       "      <th>real_labels</th>\n",
       "    </tr>\n",
       "  </thead>\n",
       "  <tbody>\n",
       "    <tr>\n",
       "      <th>0</th>\n",
       "      <td>такий спокійний вечір</td>\n",
       "      <td>0</td>\n",
       "      <td>3</td>\n",
       "    </tr>\n",
       "    <tr>\n",
       "      <th>1</th>\n",
       "      <td>твоє виноградне шампанське терпке</td>\n",
       "      <td>2</td>\n",
       "      <td>2</td>\n",
       "    </tr>\n",
       "    <tr>\n",
       "      <th>2</th>\n",
       "      <td>сердита, бо знову пропустила маршрутку</td>\n",
       "      <td>4</td>\n",
       "      <td>1</td>\n",
       "    </tr>\n",
       "    <tr>\n",
       "      <th>3</th>\n",
       "      <td>я не змогла з нею поговорити</td>\n",
       "      <td>0</td>\n",
       "      <td>0</td>\n",
       "    </tr>\n",
       "    <tr>\n",
       "      <th>4</th>\n",
       "      <td>тони цієї кімнати підходять для спальні</td>\n",
       "      <td>2</td>\n",
       "      <td>3</td>\n",
       "    </tr>\n",
       "    <tr>\n",
       "      <th>5</th>\n",
       "      <td>ти виродок</td>\n",
       "      <td>1</td>\n",
       "      <td>1</td>\n",
       "    </tr>\n",
       "  </tbody>\n",
       "</table>\n",
       "</div>"
      ],
      "text/plain": [
       "                              my_centences  predicted_labels  real_labels\n",
       "0                    такий спокійний вечір                 0            3\n",
       "1        твоє виноградне шампанське терпке                 2            2\n",
       "2   сердита, бо знову пропустила маршрутку                 4            1\n",
       "3             я не змогла з нею поговорити                 0            0\n",
       "4  тони цієї кімнати підходять для спальні                 2            3\n",
       "5                               ти виродок                 1            1"
      ]
     },
     "execution_count": 17,
     "metadata": {},
     "output_type": "execute_result"
    }
   ],
   "source": [
    "# set messages appropriate to your dataset!\n",
    "X_my_sentences = np.array([\"такий спокійний вечір\", \"твоє виноградне шампанське терпке\", \"сердита, бо знову пропустила маршрутку\", \"я не змогла з нею поговорити\", \"тони цієї кімнати підходять для спальні\", \"ти виродок\"])\n",
    "Y_my_labels = np.array([[3], [2], [1], [0], [3], [1]])\n",
    "\n",
    "pred = predict(X_my_sentences, Y_my_labels , W, b, word_to_vec_map)\n",
    "# print_predictions(X_my_sentences, pred)\n",
    "pd.DataFrame({'my_centences': X_my_sentences, 'predicted_labels': pred, 'real_labels': [3,2,1,0,3,1]})"
   ]
  },
  {
   "cell_type": "markdown",
   "metadata": {},
   "source": [
    "\"обожнюю\" has a similar embedding as \"кохаю\", the algorithm should generalize correctly even to a word it has never seen before.\n",
    "<br><br>\n",
    "Note though that it doesn't get \"не почуваюся щасливим\" correct. This algorithm ignores word ordering, so is not good at understanding phrases like \"не щасливий\"\n",
    "<br><br>\n",
    "Printing the confusion matrix can also help understand which classes are more difficult for your model. A confusion matrix shows how often an example whose label is one class (\"actual\" class) is mislabeled by the algorithm with a different class (\"predicted\" class)."
   ]
  },
  {
   "cell_type": "code",
   "execution_count": 18,
   "metadata": {},
   "outputs": [],
   "source": [
    "def plot_confusion_matrix(cm, classes,\n",
    "                          normalize=False,\n",
    "                          title='Confusion matrix',\n",
    "                          cmap=plt.cm.Blues):\n",
    "    \"\"\"\n",
    "    This function prints and plots the confusion matrix.\n",
    "    Normalization can be applied by setting `normalize=True`.\n",
    "    \"\"\"\n",
    "    if normalize:\n",
    "        cm = cm.astype('float') / cm.sum(axis=1)[:, np.newaxis]\n",
    "        print(\"Normalized confusion matrix\")\n",
    "    else:\n",
    "        print('Confusion matrix, without normalization')\n",
    "\n",
    "    print(cm)\n",
    "\n",
    "    plt.imshow(cm, interpolation='nearest', cmap=cmap)\n",
    "    plt.title(title)\n",
    "    plt.colorbar()\n",
    "    tick_marks = np.arange(len(classes))\n",
    "    plt.xticks(tick_marks, classes, rotation=45)\n",
    "    plt.yticks(tick_marks, classes)\n",
    "\n",
    "    fmt = '.2f' if normalize else 'd'\n",
    "    thresh = cm.max() / 2.\n",
    "    for i, j in itertools.product(range(cm.shape[0]), range(cm.shape[1])):\n",
    "        plt.text(j, i, format(cm[i, j], fmt),\n",
    "                 horizontalalignment=\"center\",\n",
    "                 color=\"white\" if cm[i, j] > thresh else \"black\")\n",
    "\n",
    "    plt.tight_layout()\n",
    "    plt.ylabel('True label')\n",
    "    plt.xlabel('Predicted label')"
   ]
  },
  {
   "cell_type": "code",
   "execution_count": 19,
   "metadata": {},
   "outputs": [
    {
     "name": "stdout",
     "output_type": "stream",
     "text": [
      "(29,)\n",
      "           😭    😠    🍷    😴   💩\n",
      "Predicted  0   1  2  3  4  All\n",
      "Actual                        \n",
      "0          1   4  0  1  1    7\n",
      "1          1   4  0  0  0    5\n",
      "2          0   0  7  0  0    7\n",
      "3          0   0  1  0  1    2\n",
      "4          2   3  0  0  3    8\n",
      "All        4  11  8  1  5   29\n",
      "Confusion matrix, without normalization\n",
      "[[1 4 0 1 1]\n",
      " [1 4 0 0 0]\n",
      " [0 0 7 0 0]\n",
      " [0 0 1 0 1]\n",
      " [2 3 0 0 3]]\n"
     ]
    },
    {
     "data": {
      "image/png": "[encoded data removed]",
      "text/plain": [
       "<Figure size 432x288 with 2 Axes>"
      ]
     },
     "metadata": {
      "needs_background": "light"
     },
     "output_type": "display_data"
    }
   ],
   "source": [
    "print(Y_test.shape)\n",
    "print('           '+ label_to_emoji(0)+ '    ' + label_to_emoji(1) + '    ' +  label_to_emoji(2)+ '    ' + label_to_emoji(3)+'   ' + label_to_emoji(4))\n",
    "print(pd.crosstab(Y_test, pred_test, rownames=['Actual'], colnames=['Predicted'], margins=True))\n",
    "\n",
    "np.set_printoptions(precision=2)\n",
    "class_names = range(10)\n",
    "cnf_matrix = confusion_matrix(Y_test, pred_test)\n",
    "plt.figure()\n",
    "plot_confusion_matrix(cnf_matrix, classes=class_names)"
   ]
  },
  {
   "cell_type": "markdown",
   "metadata": {},
   "source": [
    "**Conclusions:**\n",
    "- Even with a 150 training examples, you can get a reasonably good model for Emojifying. This is due to the generalization power word vectors gives you.\n",
    "- Emojify-V1 will perform poorly on sentences such as \"Цей фільм мені не подобається\" because it doesn't understand combinations of words--it just averages all the words' embedding vectors together, without paying attention to the ordering of words. You will build a better algorithm in the next part."
   ]
  },
  {
   "cell_type": "markdown",
   "metadata": {},
   "source": [
    "# Emojifier-V2: Using LSTMs in Keras"
   ]
  },
  {
   "cell_type": "markdown",
   "metadata": {},
   "source": [
    "Let's build an LSTM model that takes as input word sequences. This model will be able to take word ordering into account. Emojifier-V2 will continue to use pre-trained word embeddings to represent words, but will feed them into an LSTM, whose job it is to predict the most appropriate emoji."
   ]
  },
  {
   "cell_type": "code",
   "execution_count": 20,
   "metadata": {},
   "outputs": [
    {
     "name": "stderr",
     "output_type": "stream",
     "text": [
      "Using TensorFlow backend.\n"
     ]
    }
   ],
   "source": [
    "import numpy as np\n",
    "from keras.models import Model\n",
    "from keras.layers import Dense, Input, Dropout, LSTM, Activation\n",
    "from keras.layers.embeddings import Embedding\n",
    "from keras.preprocessing import sequence\n",
    "from keras.initializers import glorot_uniform"
   ]
  },
  {
   "cell_type": "markdown",
   "metadata": {},
   "source": [
    "## Overview of the model\n",
    "Here is the Emojifier-v2 you will implement:\n",
    "![](../../../Downloads/emojifier-v2.png)"
   ]
  },
  {
   "cell_type": "markdown",
   "metadata": {},
   "source": [
    "## Keras and mini-batching\n",
    "We want to train Keras using mini-batches. However, most deep learning frameworks require that all sequences in the same mini-batch have the same length. This is what allows vectorization to work: If you had a 3-word sentence and a 4-word sentence, then the computations needed for them are different (one takes 3 steps of an LSTM, one takes 4 steps) so it's just not possible to do them both at the same time.\n",
    "\n",
    "The common solution to this is to use padding. Specifically, set a maximum sequence length, and pad all sequences to the same length. For example, of the maximum sequence length is 20, we could pad every sentence with \"0\"s so that each input sentence is of length 20. Thus, a sentence \"i love you\" would be represented as $(e_{i}, e_{love}, e_{you}, \\vec{0}, \\vec{0}, \\ldots, \\vec{0})$. In this example, any sentences longer than 20 words would have to be truncated. One simple way to choose the maximum sequence length is to just pick the length of the longest sentence in the training set."
   ]
  },
  {
   "cell_type": "markdown",
   "metadata": {},
   "source": [
    "## The Embedding layer\n",
    "In Keras, the embedding matrix is represented as a \"layer\", and maps positive integers (indices corresponding to words) into dense vectors of fixed size (the embedding vectors). It can be trained or initialized with a pretrained embedding. In this part, you will learn how to create an Embedding() layer in Keras, initialize it with the GloVe 50-dimensional vectors loaded earlier in the notebook. Because our training set is quite small, we will not update the word embeddings but will instead leave their values fixed. But in the code below, we'll show you how Keras allows you to either train or leave fixed this layer.\n",
    "\n",
    "The Embedding() layer takes an integer matrix of size (batch size, max input length) as input. This corresponds to sentences converted into lists of indices (integers), as shown in the figure below.\n",
    "![](../../../Downloads/embedding1.png)\n",
    "The largest integer (i.e. word index) in the input should be no larger than the vocabulary size. The layer outputs an array of shape (batch size, max input length, dimension of word vectors).\n",
    "\n",
    "The first step is to convert all your training sentences into lists of indices, and then zero-pad all these lists so that their length is the length of the longest sentence."
   ]
  },
  {
   "cell_type": "markdown",
   "metadata": {},
   "source": [
    "**Implement the function below** to convert X (array of sentences as strings) into an array of indices corresponding to words in the sentences. The output shape should be such that it can be given to Embedding()."
   ]
  },
  {
   "cell_type": "code",
   "execution_count": 21,
   "metadata": {},
   "outputs": [],
   "source": [
    "def sentences_to_indices(X, word_to_index, max_len):\n",
    "    \"\"\"\n",
    "    Converts an array of sentences (strings) into an array of indices corresponding to words in the sentences.\n",
    "    The output shape should be such that it can be given to `Embedding()` (described in Figure 4). \n",
    "    \n",
    "    Arguments:\n",
    "    X -- array of sentences (strings), of shape (m, 1)\n",
    "    word_to_index -- a dictionary containing the each word mapped to its index\n",
    "    max_len -- maximum number of words in a sentence. You can assume every sentence in X is no longer than this. \n",
    "    \n",
    "    Returns:\n",
    "    X_indices -- array of indices corresponding to words in the sentences from X, of shape (m, max_len)\n",
    "    \"\"\"\n",
    "    \n",
    "    m = X.shape[0]                                   # number of training examples\n",
    "    \n",
    "    ### START CODE HERE ###\n",
    "    # Initialize X_indices as a numpy matrix of zeros and the correct shape (≈ 1 line)\n",
    "    X_indices = np.zeros((m, max_len))\n",
    "    \n",
    "    for i in range(m):                               # loop over training examples\n",
    "        \n",
    "        # Convert the ith training sentence in lower case and split is into words. You should get a list of words.\n",
    "        sentence_words = X[i].lower().split()\n",
    "        sentence_words = [w.lower().strip(punctuation) for w in sentence_words if w.lower().strip(punctuation) in word_to_vec_map.keys()]\n",
    "        # Initialize j to 0\n",
    "        j = 0\n",
    "        \n",
    "        # Loop over the words of sentence_words\n",
    "        for w in sentence_words:\n",
    "            # Set the (i,j)th entry of X_indices to the index of the correct word.\n",
    "            X_indices[i, j] = word_to_index[w]\n",
    "\n",
    "            # Increment j to j + 1\n",
    "            j+=1\n",
    "            \n",
    "            \n",
    "    ### END CODE HERE ###\n",
    "    \n",
    "    return X_indices"
   ]
  },
  {
   "cell_type": "markdown",
   "metadata": {},
   "source": [
    "Let's build the Embedding() layer in Keras, using pre-trained word vectors. After this layer is built, you will pass the output of sentences_to_indices() to it as an input, and the Embedding() layer will return the word embeddings for a sentence."
   ]
  },
  {
   "cell_type": "markdown",
   "metadata": {},
   "source": [
    "**Implement pretrained_embedding_layer()**. You will need to carry out the following steps:\n",
    "\n",
    "1. Initialize the embedding matrix as a numpy array of zeroes with the correct shape.\n",
    "2. Fill in the embedding matrix with all the word embeddings extracted from word_to_vec_map.\n",
    "3. Define Keras embedding layer. Use Embedding(). Be sure to make this layer non-trainable, by setting trainable = False when calling Embedding(). If you were to set trainable = True, then it will allow the optimization algorithm to modify the values of the word embeddings.\n",
    "4. Set the embedding weights to be equal to the embedding matrix"
   ]
  },
  {
   "cell_type": "code",
   "execution_count": 22,
   "metadata": {},
   "outputs": [],
   "source": [
    "def pretrained_embedding_layer(word_to_vec_map, word_to_index):\n",
    "    \"\"\"\n",
    "    Creates a Keras Embedding() layer and loads in pre-trained GloVe 50-dimensional vectors.\n",
    "    \n",
    "    Arguments:\n",
    "    word_to_vec_map -- dictionary mapping words to their GloVe vector representation.\n",
    "    word_to_index -- dictionary mapping from words to their indices in the vocabulary (400,001 words)\n",
    "\n",
    "    Returns:\n",
    "    embedding_layer -- pretrained layer Keras instance\n",
    "    \"\"\"\n",
    "    \n",
    "    vocab_len = len(word_to_index) + 1                  # adding 1 to fit Keras embedding (requirement)\n",
    "    emb_dim = 300     # define dimensionality of your GloVe word vectors (= 50)\n",
    "    \n",
    "    ### START CODE HERE ###\n",
    "    # Initialize the embedding matrix as a numpy array of zeros of shape (vocab_len, dimensions of word vectors = emb_dim)\n",
    "    emb_matrix = np.zeros((vocab_len, emb_dim))\n",
    "    \n",
    "    # Set each row \"index\" of the embedding matrix to be the word vector representation of the \"index\"th word of the vocabulary\n",
    "    for w,i in word_to_index.items():\n",
    "        emb_matrix[i, :] = word_to_vec_map[w]\n",
    "\n",
    "    # Define Keras embedding layer with the correct output/input sizes, make it trainable. Use Embedding(...). Make sure to set trainable=False. \n",
    "    embedding_layer = Embedding(vocab_len, emb_dim, trainable=False)\n",
    "    ### END CODE HERE ###\n",
    "\n",
    "    # Build the embedding layer, it is required before setting the weights of the embedding layer. Do not modify the \"None\".\n",
    "    embedding_layer.build((None,))\n",
    "    \n",
    "    # Set the weights of the embedding layer to the embedding matrix. Your layer is now pretrained.\n",
    "    embedding_layer.set_weights([emb_matrix])\n",
    "    \n",
    "    return embedding_layer"
   ]
  },
  {
   "cell_type": "markdown",
   "metadata": {},
   "source": [
    "Check it:"
   ]
  },
  {
   "cell_type": "code",
   "execution_count": 23,
   "metadata": {},
   "outputs": [
    {
     "name": "stdout",
     "output_type": "stream",
     "text": [
      "weights[0][1][3] = 0.080119\n"
     ]
    }
   ],
   "source": [
    "embedding_layer = pretrained_embedding_layer(word_to_vec_map, word_to_index)\n",
    "print(\"weights[0][1][3] =\", embedding_layer.get_weights()[0][1][3])"
   ]
  },
  {
   "cell_type": "markdown",
   "metadata": {},
   "source": [
    "## Building the Emojifier-V2\n",
    "Lets now build the Emojifier-V2 model. You will do so using the embedding layer you have built, and feed its output to an LSTM network."
   ]
  },
  {
   "cell_type": "markdown",
   "metadata": {},
   "source": [
    "Exercise: Implement Emojify_V2(), which builds a Keras graph of the architecture shown in Figure 3. The model takes as input an array of sentences of shape (m, max_len, ) defined by input_shape. It should output a softmax probability vector of shape (m, C = 5). You may need Input(shape = ..., dtype = '...'), LSTM(), Dropout(), Dense(), and Activation()."
   ]
  },
  {
   "cell_type": "code",
   "execution_count": 24,
   "metadata": {},
   "outputs": [],
   "source": [
    "def Emojify_V2(input_shape, word_to_vec_map, word_to_index):\n",
    "    \"\"\"\n",
    "    Function creating the Emojify-v2 model's graph.\n",
    "    \n",
    "    Arguments:\n",
    "    input_shape -- shape of the input, usually (max_len,)\n",
    "    word_to_vec_map -- dictionary mapping every word in a vocabulary into its 50-dimensional vector representation\n",
    "    word_to_index -- dictionary mapping from words to their indices in the vocabulary (400,001 words)\n",
    "\n",
    "    Returns:\n",
    "    model -- a model instance in Keras\n",
    "    \"\"\"\n",
    "    \n",
    "    ### START CODE HERE ###\n",
    "    # Define sentence_indices as the input of the graph, it should be of shape input_shape and dtype 'int32' (as it contains indices).\n",
    "    sentence_indices = Input(input_shape, dtype='int32')\n",
    "    \n",
    "    # Create the embedding layer pretrained with GloVe Vectors (≈1 line)\n",
    "    embedding_layer = pretrained_embedding_layer(word_to_vec_map, word_to_index)\n",
    "    \n",
    "    # Propagate sentence_indices through your embedding layer, you get back the embeddings\n",
    "    embeddings = embedding_layer(sentence_indices)\n",
    "    \n",
    "    # Propagate the embeddings through an LSTM layer with 128-dimensional hidden state\n",
    "    # Be careful, the returned output should be a batch of sequences.\n",
    "    X = LSTM(128, return_sequences=True)(embeddings)\n",
    "    # Add dropout with a probability of 0.5\n",
    "    X = Dropout(0.5)(X)\n",
    "    # Propagate X trough another LSTM layer with 128-dimensional hidden state\n",
    "    # Be careful, the returned output should be a single hidden state, not a batch of sequences.\n",
    "    X = LSTM(128, return_sequences=False)(X)\n",
    "    # Add dropout with a probability of 0.5\n",
    "    X = Dropout(0.5)(X)\n",
    "    # Propagate X through a Dense layer with softmax activation to get back a batch of 5-dimensional vectors.\n",
    "    X = Dense(5)(X)\n",
    "    # Add a softmax activation\n",
    "    X = Activation('softmax')(X)\n",
    "    \n",
    "    # Create Model instance which converts sentence_indices into X.\n",
    "    model = Model(inputs=sentence_indices, outputs=X)\n",
    "    \n",
    "    ### END CODE HERE ###\n",
    "    \n",
    "    return model"
   ]
  },
  {
   "cell_type": "markdown",
   "metadata": {},
   "source": [
    "Run the following cell to create your model and check its summary. Because all sentences in the dataset are less than 10 words, we chose max_len = 10. You should see your architecture, it uses \"20,223,927\" parameters, of which 20,000,050 (the word embeddings) are non-trainable, and the remaining 223,877 are. Because our vocabulary size has 400,001 words (with valid indices from 0 to 400,000) there are 400,001*50 = 20,000,050 non-trainable parameters."
   ]
  },
  {
   "cell_type": "code",
   "execution_count": 25,
   "metadata": {},
   "outputs": [
    {
     "name": "stdout",
     "output_type": "stream",
     "text": [
      "_________________________________________________________________\n",
      "Layer (type)                 Output Shape              Param #   \n",
      "=================================================================\n",
      "input_1 (InputLayer)         (None, 14)                0         \n",
      "_________________________________________________________________\n",
      "embedding_2 (Embedding)      (None, 14, 300)           161529900 \n",
      "_________________________________________________________________\n",
      "lstm_1 (LSTM)                (None, 14, 128)           219648    \n",
      "_________________________________________________________________\n",
      "dropout_1 (Dropout)          (None, 14, 128)           0         \n",
      "_________________________________________________________________\n",
      "lstm_2 (LSTM)                (None, 128)               131584    \n",
      "_________________________________________________________________\n",
      "dropout_2 (Dropout)          (None, 128)               0         \n",
      "_________________________________________________________________\n",
      "dense_1 (Dense)              (None, 5)                 645       \n",
      "_________________________________________________________________\n",
      "activation_1 (Activation)    (None, 5)                 0         \n",
      "=================================================================\n",
      "Total params: 161,881,777\n",
      "Trainable params: 351,877\n",
      "Non-trainable params: 161,529,900\n",
      "_________________________________________________________________\n"
     ]
    }
   ],
   "source": [
    "model = Emojify_V2((maxLen,), word_to_vec_map, word_to_index)\n",
    "model.summary()"
   ]
  },
  {
   "cell_type": "markdown",
   "metadata": {},
   "source": [
    "As usual, after creating your model in Keras, you need to compile it and define what loss, optimizer and metrics your are want to use. Compile your model using categorical_crossentropy loss, adam optimizer and ['accuracy'] metrics:"
   ]
  },
  {
   "cell_type": "code",
   "execution_count": 26,
   "metadata": {},
   "outputs": [],
   "source": [
    "model.compile(loss='categorical_crossentropy', optimizer='adam', metrics=['accuracy'])"
   ]
  },
  {
   "cell_type": "markdown",
   "metadata": {},
   "source": [
    "It's time to train your model. Your Emojifier-V2 model takes as input an array of shape (m, max_len) and outputs probability vectors of shape (m, number of classes). We thus have to convert X_train (array of sentences as strings) to X_train_indices (array of sentences as list of word indices), and Y_train (labels as indices) to Y_train_oh (labels as one-hot vectors)."
   ]
  },
  {
   "cell_type": "code",
   "execution_count": 27,
   "metadata": {},
   "outputs": [],
   "source": [
    "X_train_indices = sentences_to_indices(X_train, word_to_index, maxLen)\n",
    "Y_train_oh = convert_to_one_hot(Y_train, C = 5)"
   ]
  },
  {
   "cell_type": "markdown",
   "metadata": {},
   "source": [
    "Fit the Keras model on X_train_indices and Y_train_oh. We will use epochs = 50 and batch_size = 32."
   ]
  },
  {
   "cell_type": "code",
   "execution_count": 28,
   "metadata": {},
   "outputs": [
    {
     "name": "stdout",
     "output_type": "stream",
     "text": [
      "Epoch 1/50\n",
      "115/115 [==============================] - 19s 165ms/step - loss: 1.6029 - acc: 0.2174\n",
      "Epoch 2/50\n",
      "115/115 [==============================] - 1s 5ms/step - loss: 1.5395 - acc: 0.3652\n",
      "Epoch 3/50\n",
      "115/115 [==============================] - 1s 4ms/step - loss: 1.4447 - acc: 0.3739\n",
      "Epoch 4/50\n",
      "115/115 [==============================] - 1s 7ms/step - loss: 1.2829 - acc: 0.4783\n",
      "Epoch 5/50\n",
      "115/115 [==============================] - 1s 5ms/step - loss: 1.1197 - acc: 0.4870\n",
      "Epoch 6/50\n",
      "115/115 [==============================] - 1s 5ms/step - loss: 1.0602 - acc: 0.5826\n",
      "Epoch 7/50\n",
      "115/115 [==============================] - 1s 7ms/step - loss: 0.9396 - acc: 0.6348\n",
      "Epoch 8/50\n",
      "115/115 [==============================] - 1s 6ms/step - loss: 0.7798 - acc: 0.7304\n",
      "Epoch 9/50\n",
      "115/115 [==============================] - 1s 7ms/step - loss: 0.6177 - acc: 0.7826\n",
      "Epoch 10/50\n",
      "115/115 [==============================] - 1s 8ms/step - loss: 0.4404 - acc: 0.8261\n",
      "Epoch 11/50\n",
      "115/115 [==============================] - 1s 6ms/step - loss: 0.3111 - acc: 0.9217\n",
      "Epoch 12/50\n",
      "115/115 [==============================] - 1s 6ms/step - loss: 0.2374 - acc: 0.9304\n",
      "Epoch 13/50\n",
      "115/115 [==============================] - 1s 7ms/step - loss: 0.1197 - acc: 0.9739\n",
      "Epoch 14/50\n",
      "115/115 [==============================] - 1s 6ms/step - loss: 0.0914 - acc: 0.9826\n",
      "Epoch 15/50\n",
      "115/115 [==============================] - 1s 5ms/step - loss: 0.0526 - acc: 0.9913\n",
      "Epoch 16/50\n",
      "115/115 [==============================] - 1s 8ms/step - loss: 0.0565 - acc: 0.9739\n",
      "Epoch 17/50\n",
      "115/115 [==============================] - 1s 5ms/step - loss: 0.0277 - acc: 0.9913\n",
      "Epoch 18/50\n",
      "115/115 [==============================] - 1s 4ms/step - loss: 0.0381 - acc: 0.9826\n",
      "Epoch 19/50\n",
      "115/115 [==============================] - 1s 7ms/step - loss: 0.0070 - acc: 1.0000\n",
      "Epoch 20/50\n",
      "115/115 [==============================] - 1s 5ms/step - loss: 0.0082 - acc: 1.0000\n",
      "Epoch 21/50\n",
      "115/115 [==============================] - 1s 5ms/step - loss: 0.0085 - acc: 1.0000\n",
      "Epoch 22/50\n",
      "115/115 [==============================] - 1s 6ms/step - loss: 0.0045 - acc: 1.0000\n",
      "Epoch 23/50\n",
      "115/115 [==============================] - 1s 7ms/step - loss: 0.0049 - acc: 1.0000\n",
      "Epoch 24/50\n",
      "115/115 [==============================] - 1s 5ms/step - loss: 0.0028 - acc: 1.0000\n",
      "Epoch 25/50\n",
      "115/115 [==============================] - 1s 5ms/step - loss: 0.0180 - acc: 0.9913\n",
      "Epoch 26/50\n",
      "115/115 [==============================] - 1s 6ms/step - loss: 0.1053 - acc: 0.9739\n",
      "Epoch 27/50\n",
      "115/115 [==============================] - 1s 7ms/step - loss: 0.4121 - acc: 0.9391\n",
      "Epoch 28/50\n",
      "115/115 [==============================] - 1s 7ms/step - loss: 0.2274 - acc: 0.9565\n",
      "Epoch 29/50\n",
      "115/115 [==============================] - 1s 7ms/step - loss: 0.2225 - acc: 0.9391\n",
      "Epoch 30/50\n",
      "115/115 [==============================] - 1s 6ms/step - loss: 0.1546 - acc: 0.9739\n",
      "Epoch 31/50\n",
      "115/115 [==============================] - 1s 6ms/step - loss: 0.2023 - acc: 0.9391\n",
      "Epoch 32/50\n",
      "115/115 [==============================] - 1s 7ms/step - loss: 0.0560 - acc: 0.9826\n",
      "Epoch 33/50\n",
      "115/115 [==============================] - 1s 6ms/step - loss: 0.1529 - acc: 0.9478\n",
      "Epoch 34/50\n",
      "115/115 [==============================] - 1s 6ms/step - loss: 0.0197 - acc: 1.0000\n",
      "Epoch 35/50\n",
      "115/115 [==============================] - 1s 8ms/step - loss: 0.0172 - acc: 1.0000\n",
      "Epoch 36/50\n",
      "115/115 [==============================] - 1s 6ms/step - loss: 0.0119 - acc: 1.0000\n",
      "Epoch 37/50\n",
      "115/115 [==============================] - 1s 6ms/step - loss: 0.0085 - acc: 1.0000\n",
      "Epoch 38/50\n",
      "115/115 [==============================] - 1s 7ms/step - loss: 0.0210 - acc: 0.9913\n",
      "Epoch 39/50\n",
      "115/115 [==============================] - 1s 6ms/step - loss: 0.0091 - acc: 1.0000\n",
      "Epoch 40/50\n",
      "115/115 [==============================] - 1s 6ms/step - loss: 0.0067 - acc: 1.0000\n",
      "Epoch 41/50\n",
      "115/115 [==============================] - 1s 7ms/step - loss: 0.0062 - acc: 1.0000\n",
      "Epoch 42/50\n",
      "115/115 [==============================] - 1s 6ms/step - loss: 0.0061 - acc: 1.0000\n",
      "Epoch 43/50\n",
      "115/115 [==============================] - 1s 6ms/step - loss: 0.0063 - acc: 1.0000\n",
      "Epoch 44/50\n",
      "115/115 [==============================] - 1s 7ms/step - loss: 0.0057 - acc: 1.0000\n",
      "Epoch 45/50\n",
      "115/115 [==============================] - 1s 5ms/step - loss: 0.0044 - acc: 1.0000\n",
      "Epoch 46/50\n",
      "115/115 [==============================] - 1s 6ms/step - loss: 0.0039 - acc: 1.0000\n",
      "Epoch 47/50\n",
      "115/115 [==============================] - 1s 7ms/step - loss: 0.0040 - acc: 1.0000\n",
      "Epoch 48/50\n",
      "115/115 [==============================] - 1s 5ms/step - loss: 0.0038 - acc: 1.0000\n",
      "Epoch 49/50\n",
      "115/115 [==============================] - 1s 6ms/step - loss: 0.0036 - acc: 1.0000\n",
      "Epoch 50/50\n",
      "115/115 [==============================] - 1s 7ms/step - loss: 0.0035 - acc: 1.0000\n"
     ]
    },
    {
     "data": {
      "text/plain": [
       "<keras.callbacks.History at 0x7fca5266cba8>"
      ]
     },
     "execution_count": 28,
     "metadata": {},
     "output_type": "execute_result"
    }
   ],
   "source": [
    "model.fit(X_train_indices, Y_train_oh, epochs = 50, batch_size = 32, shuffle=True)"
   ]
  },
  {
   "cell_type": "markdown",
   "metadata": {},
   "source": [
    "Your model should perform close to **100% accuracy** on the training set. The exact accuracy you get may be a little different. Run the following cell to evaluate your model on the test set."
   ]
  },
  {
   "cell_type": "code",
   "execution_count": 29,
   "metadata": {},
   "outputs": [
    {
     "name": "stdout",
     "output_type": "stream",
     "text": [
      "29/29 [==============================] - 1s 31ms/step\n",
      "\n",
      "Test accuracy =  0.5517241358757019\n"
     ]
    }
   ],
   "source": [
    "X_test_indices = sentences_to_indices(X_test, word_to_index, max_len = maxLen)\n",
    "Y_test_oh = convert_to_one_hot(Y_test, C = 5)\n",
    "loss, acc = model.evaluate(X_test_indices, Y_test_oh)\n",
    "print()\n",
    "print(\"Test accuracy = \", acc)"
   ]
  },
  {
   "cell_type": "markdown",
   "metadata": {},
   "source": [
    "You should get a test accuracy between 80% and 95%. Run the cell below to see the mislabelled examples."
   ]
  },
  {
   "cell_type": "code",
   "execution_count": 30,
   "metadata": {},
   "outputs": [
    {
     "name": "stdout",
     "output_type": "stream",
     "text": [
      "Expected emoji:😭 prediction: Нова гра не запускається на комп'ютері😠\n",
      "Expected emoji:💩 prediction: Я поснідав в столовій😭\n",
      "Expected emoji:😭 prediction: Давайте ревіти всі разом.😠\n",
      "Expected emoji:💩 prediction: Тут дуже брудно😠\n",
      "Expected emoji:💩 prediction: Чому все так погано тут😠\n",
      "Expected emoji:🍷 prediction: Винний перегляд: різниця між французькими та південноамериканськими мальбами💩\n",
      "Expected emoji:😴 prediction: гарної ночі💩\n",
      "Expected emoji:😭 prediction: Фільм був дуже сумний💩\n",
      "Expected emoji:😴 prediction: взагалі не цікаво💩\n",
      "Expected emoji:😭 prediction: Дуже сильно обідився😠\n",
      "Expected emoji:🍷 prediction: Алкоголь - це не рішення😠\n",
      "Expected emoji:💩 prediction: Вчора мене пограбували🍷\n",
      "Expected emoji:💩 prediction: Ненавижу такі заклади😠\n"
     ]
    }
   ],
   "source": [
    "# This code allows you to see the mislabelled examples\n",
    "C = 5\n",
    "y_test_oh = np.eye(C)[np.array(Y_test).reshape(-1)]\n",
    "X_test_indices = sentences_to_indices(X_test, word_to_index, maxLen)\n",
    "pred = model.predict(X_test_indices)\n",
    "for i in range(len(X_test)):\n",
    "    x = X_test_indices\n",
    "    num = np.argmax(pred[i])\n",
    "    if(num != Y_test[i]):\n",
    "        print('Expected emoji:'+ label_to_emoji(Y_test[i]) + ' prediction: '+ X_test[i] + label_to_emoji(num).strip())"
   ]
  },
  {
   "cell_type": "markdown",
   "metadata": {},
   "source": [
    "Now you can try it on your own example. Write your own sentence below."
   ]
  },
  {
   "cell_type": "code",
   "execution_count": 31,
   "metadata": {},
   "outputs": [
    {
     "name": "stdout",
     "output_type": "stream",
     "text": [
      "НЛП - це круто! 😠\n"
     ]
    }
   ],
   "source": [
    "# Change the sentence below to see your prediction. Make sure all the words are in the Glove embeddings.  \n",
    "x_test = np.array(['НЛП - це круто!'])\n",
    "X_test_indices = sentences_to_indices(x_test, word_to_index, maxLen)\n",
    "print(x_test[0] +' '+  label_to_emoji(np.argmax(model.predict(X_test_indices))))"
   ]
  },
  {
   "cell_type": "markdown",
   "metadata": {},
   "source": [
    "Previously, Emojify-V1 model did not correctly label \"not feeling happy,\" but our implementation of Emojiy-V2 got it right. (Keras' outputs are slightly random each time, so you may not have obtained the same result.) The current model still isn't very robust at understanding negation (like \"не задоволений\") because the training set is small and so doesn't have a lot of examples of negation. But if the training set were larger, the LSTM model would be much better than the Emojify-V1 model at understanding such complex sentences."
   ]
  },
  {
   "cell_type": "markdown",
   "metadata": {},
   "source": [
    "# Conclusions\n",
    "- If you have an NLP task where the training set is small, using word embeddings can help your algorithm significantly. Word embeddings allow your model to work on words in the test set that may not even have appeared in your training set.\n",
    "- Training sequence models in Keras (and in most other deep learning frameworks) requires a few important details:\n",
    "    - To use mini-batches, the sequences need to be padded so that all the examples in a mini-batch have the same length.\n",
    "    - An Embedding() layer can be initialized with pretrained values. These values can be either fixed or trained further on your dataset. If however your labeled dataset is small, it's usually not worth trying to train a large pre-trained set of embeddings.\n",
    "    - LSTM() has a flag called return_sequences to decide if you would like to return every hidden states or only the last one.\n",
    "    - You can use Dropout() right after LSTM() to regularize your network."
   ]
  },
  {
   "cell_type": "code",
   "execution_count": null,
   "metadata": {},
   "outputs": [],
   "source": []
  },
  {
   "cell_type": "code",
   "execution_count": null,
   "metadata": {},
   "outputs": [],
   "source": []
  },
  {
   "cell_type": "code",
   "execution_count": null,
   "metadata": {},
   "outputs": [],
   "source": []
  }
 ],
 "metadata": {
  "kernelspec": {
   "display_name": "Python 3",
   "language": "python",
   "name": "python3"
  },
  "language_info": {
   "codemirror_mode": {
    "name": "ipython",
    "version": 3
   },
   "file_extension": ".py",
   "mimetype": "text/x-python",
   "name": "python",
   "nbconvert_exporter": "python",
   "pygments_lexer": "ipython3",
   "version": "3.6.6"
  },
  "toc": {
   "base_numbering": 1,
   "nav_menu": {},
   "number_sections": true,
   "sideBar": true,
   "skip_h1_title": false,
   "title_cell": "Table of Contents",
   "title_sidebar": "Contents",
   "toc_cell": false,
   "toc_position": {},
   "toc_section_display": true,
   "toc_window_display": false
  },
  "varInspector": {
   "cols": {
    "lenName": 16,
    "lenType": 16,
    "lenVar": 40
   },
   "kernels_config": {
    "python": {
     "delete_cmd_postfix": "",
     "delete_cmd_prefix": "del ",
     "library": "var_list.py",
     "varRefreshCmd": "print(var_dic_list())"
    },
    "r": {
     "delete_cmd_postfix": ") ",
     "delete_cmd_prefix": "rm(",
     "library": "var_list.r",
     "varRefreshCmd": "cat(var_dic_list()) "
    }
   },
   "types_to_exclude": [
    "module",
    "function",
    "builtin_function_or_method",
    "instance",
    "_Feature"
   ],
   "window_display": false
  }
 },
 "nbformat": 4,
 "nbformat_minor": 2
}
